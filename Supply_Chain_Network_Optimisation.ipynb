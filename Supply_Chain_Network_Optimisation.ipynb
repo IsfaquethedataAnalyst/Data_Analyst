{
  "nbformat": 4,
  "nbformat_minor": 0,
  "metadata": {
    "colab": {
      "provenance": [],
      "authorship_tag": "ABX9TyNjCTtjDS5KWK2Iz9mJirju",
      "include_colab_link": true
    },
    "kernelspec": {
      "name": "ir",
      "display_name": "R"
    },
    "language_info": {
      "name": "R"
    }
  },
  "cells": [
    {
      "cell_type": "markdown",
      "metadata": {
        "id": "view-in-github",
        "colab_type": "text"
      },
      "source": [
        "<a href=\"https://colab.research.google.com/github/IsfaquethedataAnalyst/Data_Analyst/blob/main/Supply_Chain_Network_Optimisation.ipynb\" target=\"_parent\"><img src=\"https://colab.research.google.com/assets/colab-badge.svg\" alt=\"Open In Colab\"/></a>"
      ]
    },
    {
      "cell_type": "code",
      "execution_count": 1,
      "metadata": {
        "colab": {
          "base_uri": "https://localhost:8080/"
        },
        "id": "SAyyR43P8o5U",
        "outputId": "13edec86-9cb3-4528-c822-4c67d3ef31c1"
      },
      "outputs": [
        {
          "output_type": "stream",
          "name": "stderr",
          "text": [
            "Installing package into ‘/usr/local/lib/R/site-library’\n",
            "(as ‘lib’ is unspecified)\n",
            "\n"
          ]
        }
      ],
      "source": [
        "# Add Libraries\n",
        "check = c(\"lpSolveAPI\",\"data.table\") %in% installed.packages()\n",
        "if(!check[1]) install.packages(\"lpSolveAPI\")\n",
        "if(!check[2]) install.packages(\"data.table\")\n",
        "library(lpSolveAPI); library(data.table)"
      ]
    },
    {
      "cell_type": "code",
      "source": [
        "data <- read.csv(\"/content/Distance Matrix.csv\")"
      ],
      "metadata": {
        "id": "sz-EpwFP_fhy"
      },
      "execution_count": 2,
      "outputs": []
    },
    {
      "cell_type": "code",
      "source": [
        "# Distance Matrix\n",
        "Dist = fread(\"Distance Matrix.csv\")\n",
        "Dist$Index = 1:nrow(Dist)"
      ],
      "metadata": {
        "id": "cuGfNqf2Au72"
      },
      "execution_count": 3,
      "outputs": []
    },
    {
      "cell_type": "code",
      "source": [
        "# Factories & Capacities\n",
        "FT = data.table(Factory = unique(Dist$Source)[1:2],\n",
        "                Capacity = c(150000, 200000))\n"
      ],
      "metadata": {
        "id": "U5qkKCKMA4kr"
      },
      "execution_count": 5,
      "outputs": []
    },
    {
      "cell_type": "code",
      "source": [
        "# Distribution Centres & Throughputs\n",
        "DC = data.table(\n",
        "  DistCentre = unique(Dist$Source)[3:6],\n",
        "  Throughput = c(70000, 50000,100000,40000))"
      ],
      "metadata": {
        "id": "dltLhMZLv7VT"
      },
      "execution_count": 6,
      "outputs": []
    },
    {
      "cell_type": "code",
      "source": [
        "# Customers & Demands\n",
        "CT = data.table(Customer = unique(Dist$Destination)[5:10],\n",
        "                Demand = c(50000,10000,40000,35000,60000,20000))\n"
      ],
      "metadata": {
        "id": "uXN5ZmGHw_e4"
      },
      "execution_count": 7,
      "outputs": []
    },
    {
      "cell_type": "code",
      "source": [
        "print(Dist)\n",
        "print(FT)\n",
        "print(DC)\n",
        "print(CT)"
      ],
      "metadata": {
        "colab": {
          "base_uri": "https://localhost:8080/"
        },
        "id": "jLjGRsnSxJ3f",
        "outputId": "2c49daf3-5831-41fd-ff22-4bf8f8edb05b"
      },
      "execution_count": 8,
      "outputs": [
        {
          "output_type": "stream",
          "name": "stdout",
          "text": [
            "        Source Destination Distance Index\n",
            "        <char>      <char>    <int> <int>\n",
            " 1:  Liverpool   Newcastle      178     1\n",
            " 2:  Liverpool  Birmingham       99     2\n",
            " 3:  Liverpool      London      221     3\n",
            " 4:  Liverpool      Exeter      251     4\n",
            " 5:   Brighton   Newcastle      345     5\n",
            " 6:   Brighton  Birmingham      176     6\n",
            " 7:   Brighton      London       65     7\n",
            " 8:   Brighton      Exeter      206     8\n",
            " 9:  Newcastle    Carlisle       60     9\n",
            "10:  Newcastle  Darlington       37    10\n",
            "11:  Newcastle   Sheffield      130    11\n",
            "12:  Newcastle   Cambridge      236    12\n",
            "13:  Newcastle      Oxford      258    13\n",
            "14:  Newcastle       Truro      458    14\n",
            "15: Birmingham    Carlisle      193    15\n",
            "16: Birmingham  Darlington      172    16\n",
            "17: Birmingham   Sheffield       91    17\n",
            "18: Birmingham   Cambridge       99    18\n",
            "19: Birmingham      Oxford       79    19\n",
            "20: Birmingham       Truro      249    20\n",
            "21:     London    Carlisle      307    21\n",
            "22:     London  Darlington      249    22\n",
            "23:     London   Sheffield      168    23\n",
            "24:     London   Cambridge       58    24\n",
            "25:     London      Oxford       56    25\n",
            "26:     London       Truro      284    26\n",
            "27:     Exeter    Carlisle      346    27\n",
            "28:     Exeter  Darlington      354    28\n",
            "29:     Exeter   Sheffield      251    29\n",
            "30:     Exeter   Cambridge      248    30\n",
            "31:     Exeter      Oxford      163    31\n",
            "32:     Exeter       Truro       90    32\n",
            "        Source Destination Distance Index\n",
            "     Factory Capacity\n",
            "      <char>    <num>\n",
            "1: Liverpool   150000\n",
            "2:  Brighton   200000\n",
            "   DistCentre Throughput\n",
            "       <char>      <num>\n",
            "1:  Newcastle      7e+04\n",
            "2: Birmingham      5e+04\n",
            "3:     London      1e+05\n",
            "4:     Exeter      4e+04\n",
            "     Customer Demand\n",
            "       <char>  <num>\n",
            "1:   Carlisle  50000\n",
            "2: Darlington  10000\n",
            "3:  Sheffield  40000\n",
            "4:  Cambridge  35000\n",
            "5:     Oxford  60000\n",
            "6:      Truro  20000\n"
          ]
        }
      ]
    },
    {
      "cell_type": "markdown",
      "source": [
        "# Task 2 - Problem Formulation & Objective Function"
      ],
      "metadata": {
        "id": "2qMMXoO92wJu"
      }
    },
    {
      "cell_type": "code",
      "source": [
        "# lpSolve Object (0 constraints, nrow(Dist) variables)\n",
        "m <- make.lp(0,nrow(Dist))"
      ],
      "metadata": {
        "id": "yxAUN29P2yWE"
      },
      "execution_count": 9,
      "outputs": []
    },
    {
      "cell_type": "code",
      "source": [
        "# Cost Function - Minimize Cost = Qty Shipped x Distance\n",
        "# set.objfn(model, vector of coefficients of all Xs)\n",
        "set.objfn(m,Dist$Distance)"
      ],
      "metadata": {
        "id": "dG_sIYjV4LSo"
      },
      "execution_count": 10,
      "outputs": []
    },
    {
      "cell_type": "code",
      "source": [
        "# Exercise 2:\n",
        "# Display the Customer Demand (figures only)\n",
        "# Use the $ to get the column from dataframe"
      ],
      "metadata": {
        "id": "Jl9MjUkM4t01"
      },
      "execution_count": 11,
      "outputs": []
    },
    {
      "cell_type": "code",
      "source": [
        "CT$Demand"
      ],
      "metadata": {
        "colab": {
          "base_uri": "https://localhost:8080/",
          "height": 34
        },
        "id": "4vXa2bzP4wf2",
        "outputId": "ebca6fe2-c7a2-4a50-afa0-08f22d0e3676"
      },
      "execution_count": 12,
      "outputs": [
        {
          "output_type": "display_data",
          "data": {
            "text/html": [
              "<style>\n",
              ".list-inline {list-style: none; margin:0; padding: 0}\n",
              ".list-inline>li {display: inline-block}\n",
              ".list-inline>li:not(:last-child)::after {content: \"\\00b7\"; padding: 0 .5ex}\n",
              "</style>\n",
              "<ol class=list-inline><li>50000</li><li>10000</li><li>40000</li><li>35000</li><li>60000</li><li>20000</li></ol>\n"
            ],
            "text/markdown": "1. 50000\n2. 10000\n3. 40000\n4. 35000\n5. 60000\n6. 20000\n\n\n",
            "text/latex": "\\begin{enumerate*}\n\\item 50000\n\\item 10000\n\\item 40000\n\\item 35000\n\\item 60000\n\\item 20000\n\\end{enumerate*}\n",
            "text/plain": [
              "[1] 50000 10000 40000 35000 60000 20000"
            ]
          },
          "metadata": {}
        }
      ]
    },
    {
      "cell_type": "code",
      "source": [
        "# add.constraint(model, coeff, sign, rhs, indexes)\n",
        "\n",
        "xcoef = rep(1, nrow(Dist[Source == \"Liverpool\"]))\n",
        "xpos   = Dist[Source == \"Liverpool\"]$Index\n",
        "xrhs  = FT[Factory == \"Liverpool\"]$Capacity\n",
        "add.constraint(m,xcoef,\"<=\", xrhs, xpos)\n",
        "\n",
        "xcoef = rep(1, nrow(Dist[Source == \"Brighton\"]))\n",
        "xpos   = Dist[Source == \"Brighton\"]$Index\n",
        "xrhs  = FT[Factory == \"Brighton\"]$Capacity\n",
        "add.constraint(m,xcoef,\"<=\", xrhs, xpos)"
      ],
      "metadata": {
        "id": "_M3kCQ2t5oFF"
      },
      "execution_count": 13,
      "outputs": []
    },
    {
      "cell_type": "code",
      "source": [
        "# Extract index values for the above\n",
        "\n",
        "Dist[Source == \"Newcastle\"]\n",
        "Dist[Source == \"Newcastle\"]$Index"
      ],
      "metadata": {
        "colab": {
          "base_uri": "https://localhost:8080/",
          "height": 304
        },
        "id": "lwAaMPQd58ki",
        "outputId": "bbf0bc00-3147-496a-bec0-8a89c122b70f"
      },
      "execution_count": 14,
      "outputs": [
        {
          "output_type": "display_data",
          "data": {
            "text/html": [
              "<table class=\"dataframe\">\n",
              "<caption>A data.table: 6 × 4</caption>\n",
              "<thead>\n",
              "\t<tr><th scope=col>Source</th><th scope=col>Destination</th><th scope=col>Distance</th><th scope=col>Index</th></tr>\n",
              "\t<tr><th scope=col>&lt;chr&gt;</th><th scope=col>&lt;chr&gt;</th><th scope=col>&lt;int&gt;</th><th scope=col>&lt;int&gt;</th></tr>\n",
              "</thead>\n",
              "<tbody>\n",
              "\t<tr><td>Newcastle</td><td>Carlisle  </td><td> 60</td><td> 9</td></tr>\n",
              "\t<tr><td>Newcastle</td><td>Darlington</td><td> 37</td><td>10</td></tr>\n",
              "\t<tr><td>Newcastle</td><td>Sheffield </td><td>130</td><td>11</td></tr>\n",
              "\t<tr><td>Newcastle</td><td>Cambridge </td><td>236</td><td>12</td></tr>\n",
              "\t<tr><td>Newcastle</td><td>Oxford    </td><td>258</td><td>13</td></tr>\n",
              "\t<tr><td>Newcastle</td><td>Truro     </td><td>458</td><td>14</td></tr>\n",
              "</tbody>\n",
              "</table>\n"
            ],
            "text/markdown": "\nA data.table: 6 × 4\n\n| Source &lt;chr&gt; | Destination &lt;chr&gt; | Distance &lt;int&gt; | Index &lt;int&gt; |\n|---|---|---|---|\n| Newcastle | Carlisle   |  60 |  9 |\n| Newcastle | Darlington |  37 | 10 |\n| Newcastle | Sheffield  | 130 | 11 |\n| Newcastle | Cambridge  | 236 | 12 |\n| Newcastle | Oxford     | 258 | 13 |\n| Newcastle | Truro      | 458 | 14 |\n\n",
            "text/latex": "A data.table: 6 × 4\n\\begin{tabular}{llll}\n Source & Destination & Distance & Index\\\\\n <chr> & <chr> & <int> & <int>\\\\\n\\hline\n\t Newcastle & Carlisle   &  60 &  9\\\\\n\t Newcastle & Darlington &  37 & 10\\\\\n\t Newcastle & Sheffield  & 130 & 11\\\\\n\t Newcastle & Cambridge  & 236 & 12\\\\\n\t Newcastle & Oxford     & 258 & 13\\\\\n\t Newcastle & Truro      & 458 & 14\\\\\n\\end{tabular}\n",
            "text/plain": [
              "  Source    Destination Distance Index\n",
              "1 Newcastle Carlisle     60       9   \n",
              "2 Newcastle Darlington   37      10   \n",
              "3 Newcastle Sheffield   130      11   \n",
              "4 Newcastle Cambridge   236      12   \n",
              "5 Newcastle Oxford      258      13   \n",
              "6 Newcastle Truro       458      14   "
            ]
          },
          "metadata": {}
        },
        {
          "output_type": "display_data",
          "data": {
            "text/html": [
              "<style>\n",
              ".list-inline {list-style: none; margin:0; padding: 0}\n",
              ".list-inline>li {display: inline-block}\n",
              ".list-inline>li:not(:last-child)::after {content: \"\\00b7\"; padding: 0 .5ex}\n",
              "</style>\n",
              "<ol class=list-inline><li>9</li><li>10</li><li>11</li><li>12</li><li>13</li><li>14</li></ol>\n"
            ],
            "text/markdown": "1. 9\n2. 10\n3. 11\n4. 12\n5. 13\n6. 14\n\n\n",
            "text/latex": "\\begin{enumerate*}\n\\item 9\n\\item 10\n\\item 11\n\\item 12\n\\item 13\n\\item 14\n\\end{enumerate*}\n",
            "text/plain": [
              "[1]  9 10 11 12 13 14"
            ]
          },
          "metadata": {}
        }
      ]
    },
    {
      "cell_type": "code",
      "source": [
        "# Task 4 - Distribution Centre Constraints\n",
        "#          Qty out of DC - Qty into DC = 0\n",
        "#          Qty out of DC <= DC Throughput Limit"
      ],
      "metadata": {
        "id": "OQttlcD17WzX"
      },
      "execution_count": 15,
      "outputs": []
    },
    {
      "cell_type": "code",
      "source": [
        "# Qty out of DC - Qty into DC = 0\n",
        "for(i in DC$DistCentre) {\n",
        "  xcoef = c(rep(1, nrow(Dist[Source == i])),\n",
        "            rep(-1, nrow(Dist[Destination == i])))\n",
        "  xpos  = c(Dist[Source == i]$Index,\n",
        "            Dist[Destination == i]$Index)\n",
        "  add.constraint(m,xcoef,\"=\", 0, xpos)\n",
        "}"
      ],
      "metadata": {
        "id": "OcZkfREC7bNz"
      },
      "execution_count": 16,
      "outputs": []
    },
    {
      "cell_type": "code",
      "source": [
        "set.type(m, Dist$Index,\"integer\")"
      ],
      "metadata": {
        "id": "-fUv84Js8dlF"
      },
      "execution_count": 19,
      "outputs": []
    },
    {
      "cell_type": "code",
      "source": [
        "# Solve & Get Solution\n",
        "x = proc.time()\n",
        "lp.control(m, timeout = 10)\n",
        "\n",
        "solve(m)\n",
        "proc.time() - x\n",
        "\n",
        "get.objective(m)\n",
        "\n",
        "out = get.variables(m)\n",
        "Dist$Qty = out\n",
        "\n",
        "Dist[Qty != 0]"
      ],
      "metadata": {
        "colab": {
          "base_uri": "https://localhost:8080/",
          "height": 1000
        },
        "id": "WxUkmC3Y9ab8",
        "outputId": "513569a8-bc09-48e9-944c-0a988b28d51b"
      },
      "execution_count": 20,
      "outputs": [
        {
          "output_type": "display_data",
          "data": {
            "text/html": [
              "<dl>\n",
              "\t<dt>$anti.degen</dt>\n",
              "\t\t<dd><style>\n",
              ".list-inline {list-style: none; margin:0; padding: 0}\n",
              ".list-inline>li {display: inline-block}\n",
              ".list-inline>li:not(:last-child)::after {content: \"\\00b7\"; padding: 0 .5ex}\n",
              "</style>\n",
              "<ol class=list-inline><li>'fixedvars'</li><li>'stalling'</li></ol>\n",
              "</dd>\n",
              "\t<dt>$basis.crash</dt>\n",
              "\t\t<dd>'none'</dd>\n",
              "\t<dt>$bb.depthlimit</dt>\n",
              "\t\t<dd>-50</dd>\n",
              "\t<dt>$bb.floorfirst</dt>\n",
              "\t\t<dd>'automatic'</dd>\n",
              "\t<dt>$bb.rule</dt>\n",
              "\t\t<dd><style>\n",
              ".list-inline {list-style: none; margin:0; padding: 0}\n",
              ".list-inline>li {display: inline-block}\n",
              ".list-inline>li:not(:last-child)::after {content: \"\\00b7\"; padding: 0 .5ex}\n",
              "</style>\n",
              "<ol class=list-inline><li>'pseudononint'</li><li>'greedy'</li><li>'dynamic'</li><li>'rcostfixing'</li></ol>\n",
              "</dd>\n",
              "\t<dt>$break.at.first</dt>\n",
              "\t\t<dd>FALSE</dd>\n",
              "\t<dt>$break.at.value</dt>\n",
              "\t\t<dd>-1e+30</dd>\n",
              "\t<dt>$epsilon</dt>\n",
              "\t\t<dd><style>\n",
              ".dl-inline {width: auto; margin:0; padding: 0}\n",
              ".dl-inline>dt, .dl-inline>dd {float: none; width: auto; display: inline-block}\n",
              ".dl-inline>dt::after {content: \":\\0020\"; padding-right: .5ex}\n",
              ".dl-inline>dt:not(:first-of-type) {padding-left: .5ex}\n",
              "</style><dl class=dl-inline><dt>epsb</dt><dd>1e-10</dd><dt>epsd</dt><dd>1e-09</dd><dt>epsel</dt><dd>1e-12</dd><dt>epsint</dt><dd>1e-07</dd><dt>epsperturb</dt><dd>1e-05</dd><dt>epspivot</dt><dd>2e-07</dd></dl>\n",
              "</dd>\n",
              "\t<dt>$improve</dt>\n",
              "\t\t<dd><style>\n",
              ".list-inline {list-style: none; margin:0; padding: 0}\n",
              ".list-inline>li {display: inline-block}\n",
              ".list-inline>li:not(:last-child)::after {content: \"\\00b7\"; padding: 0 .5ex}\n",
              "</style>\n",
              "<ol class=list-inline><li>'dualfeas'</li><li>'thetagap'</li></ol>\n",
              "</dd>\n",
              "\t<dt>$infinite</dt>\n",
              "\t\t<dd>1e+30</dd>\n",
              "\t<dt>$maxpivot</dt>\n",
              "\t\t<dd>250</dd>\n",
              "\t<dt>$mip.gap</dt>\n",
              "\t\t<dd><style>\n",
              ".dl-inline {width: auto; margin:0; padding: 0}\n",
              ".dl-inline>dt, .dl-inline>dd {float: none; width: auto; display: inline-block}\n",
              ".dl-inline>dt::after {content: \":\\0020\"; padding-right: .5ex}\n",
              ".dl-inline>dt:not(:first-of-type) {padding-left: .5ex}\n",
              "</style><dl class=dl-inline><dt>absolute</dt><dd>1e-11</dd><dt>relative</dt><dd>1e-11</dd></dl>\n",
              "</dd>\n",
              "\t<dt>$negrange</dt>\n",
              "\t\t<dd>-1e+06</dd>\n",
              "\t<dt>$obj.in.basis</dt>\n",
              "\t\t<dd>TRUE</dd>\n",
              "\t<dt>$pivoting</dt>\n",
              "\t\t<dd><style>\n",
              ".list-inline {list-style: none; margin:0; padding: 0}\n",
              ".list-inline>li {display: inline-block}\n",
              ".list-inline>li:not(:last-child)::after {content: \"\\00b7\"; padding: 0 .5ex}\n",
              "</style>\n",
              "<ol class=list-inline><li>'devex'</li><li>'adaptive'</li></ol>\n",
              "</dd>\n",
              "\t<dt>$presolve</dt>\n",
              "\t\t<dd>'none'</dd>\n",
              "\t<dt>$scalelimit</dt>\n",
              "\t\t<dd>5</dd>\n",
              "\t<dt>$scaling</dt>\n",
              "\t\t<dd><style>\n",
              ".list-inline {list-style: none; margin:0; padding: 0}\n",
              ".list-inline>li {display: inline-block}\n",
              ".list-inline>li:not(:last-child)::after {content: \"\\00b7\"; padding: 0 .5ex}\n",
              "</style>\n",
              "<ol class=list-inline><li>'geometric'</li><li>'equilibrate'</li><li>'integers'</li></ol>\n",
              "</dd>\n",
              "\t<dt>$sense</dt>\n",
              "\t\t<dd>'minimize'</dd>\n",
              "\t<dt>$simplextype</dt>\n",
              "\t\t<dd><style>\n",
              ".list-inline {list-style: none; margin:0; padding: 0}\n",
              ".list-inline>li {display: inline-block}\n",
              ".list-inline>li:not(:last-child)::after {content: \"\\00b7\"; padding: 0 .5ex}\n",
              "</style>\n",
              "<ol class=list-inline><li>'dual'</li><li>'primal'</li></ol>\n",
              "</dd>\n",
              "\t<dt>$timeout</dt>\n",
              "\t\t<dd>10</dd>\n",
              "\t<dt>$verbose</dt>\n",
              "\t\t<dd>'neutral'</dd>\n",
              "</dl>\n"
            ],
            "text/markdown": "$anti.degen\n:   1. 'fixedvars'\n2. 'stalling'\n\n\n\n$basis.crash\n:   'none'\n$bb.depthlimit\n:   -50\n$bb.floorfirst\n:   'automatic'\n$bb.rule\n:   1. 'pseudononint'\n2. 'greedy'\n3. 'dynamic'\n4. 'rcostfixing'\n\n\n\n$break.at.first\n:   FALSE\n$break.at.value\n:   -1e+30\n$epsilon\n:   epsb\n:   1e-10epsd\n:   1e-09epsel\n:   1e-12epsint\n:   1e-07epsperturb\n:   1e-05epspivot\n:   2e-07\n\n\n$improve\n:   1. 'dualfeas'\n2. 'thetagap'\n\n\n\n$infinite\n:   1e+30\n$maxpivot\n:   250\n$mip.gap\n:   absolute\n:   1e-11relative\n:   1e-11\n\n\n$negrange\n:   -1e+06\n$obj.in.basis\n:   TRUE\n$pivoting\n:   1. 'devex'\n2. 'adaptive'\n\n\n\n$presolve\n:   'none'\n$scalelimit\n:   5\n$scaling\n:   1. 'geometric'\n2. 'equilibrate'\n3. 'integers'\n\n\n\n$sense\n:   'minimize'\n$simplextype\n:   1. 'dual'\n2. 'primal'\n\n\n\n$timeout\n:   10\n$verbose\n:   'neutral'\n\n\n",
            "text/latex": "\\begin{description}\n\\item[\\$anti.degen] \\begin{enumerate*}\n\\item 'fixedvars'\n\\item 'stalling'\n\\end{enumerate*}\n\n\\item[\\$basis.crash] 'none'\n\\item[\\$bb.depthlimit] -50\n\\item[\\$bb.floorfirst] 'automatic'\n\\item[\\$bb.rule] \\begin{enumerate*}\n\\item 'pseudononint'\n\\item 'greedy'\n\\item 'dynamic'\n\\item 'rcostfixing'\n\\end{enumerate*}\n\n\\item[\\$break.at.first] FALSE\n\\item[\\$break.at.value] -1e+30\n\\item[\\$epsilon] \\begin{description*}\n\\item[epsb] 1e-10\n\\item[epsd] 1e-09\n\\item[epsel] 1e-12\n\\item[epsint] 1e-07\n\\item[epsperturb] 1e-05\n\\item[epspivot] 2e-07\n\\end{description*}\n\n\\item[\\$improve] \\begin{enumerate*}\n\\item 'dualfeas'\n\\item 'thetagap'\n\\end{enumerate*}\n\n\\item[\\$infinite] 1e+30\n\\item[\\$maxpivot] 250\n\\item[\\$mip.gap] \\begin{description*}\n\\item[absolute] 1e-11\n\\item[relative] 1e-11\n\\end{description*}\n\n\\item[\\$negrange] -1e+06\n\\item[\\$obj.in.basis] TRUE\n\\item[\\$pivoting] \\begin{enumerate*}\n\\item 'devex'\n\\item 'adaptive'\n\\end{enumerate*}\n\n\\item[\\$presolve] 'none'\n\\item[\\$scalelimit] 5\n\\item[\\$scaling] \\begin{enumerate*}\n\\item 'geometric'\n\\item 'equilibrate'\n\\item 'integers'\n\\end{enumerate*}\n\n\\item[\\$sense] 'minimize'\n\\item[\\$simplextype] \\begin{enumerate*}\n\\item 'dual'\n\\item 'primal'\n\\end{enumerate*}\n\n\\item[\\$timeout] 10\n\\item[\\$verbose] 'neutral'\n\\end{description}\n",
            "text/plain": [
              "$anti.degen\n",
              "[1] \"fixedvars\" \"stalling\" \n",
              "\n",
              "$basis.crash\n",
              "[1] \"none\"\n",
              "\n",
              "$bb.depthlimit\n",
              "[1] -50\n",
              "\n",
              "$bb.floorfirst\n",
              "[1] \"automatic\"\n",
              "\n",
              "$bb.rule\n",
              "[1] \"pseudononint\" \"greedy\"       \"dynamic\"      \"rcostfixing\" \n",
              "\n",
              "$break.at.first\n",
              "[1] FALSE\n",
              "\n",
              "$break.at.value\n",
              "[1] -1e+30\n",
              "\n",
              "$epsilon\n",
              "      epsb       epsd      epsel     epsint epsperturb   epspivot \n",
              "     1e-10      1e-09      1e-12      1e-07      1e-05      2e-07 \n",
              "\n",
              "$improve\n",
              "[1] \"dualfeas\" \"thetagap\"\n",
              "\n",
              "$infinite\n",
              "[1] 1e+30\n",
              "\n",
              "$maxpivot\n",
              "[1] 250\n",
              "\n",
              "$mip.gap\n",
              "absolute relative \n",
              "   1e-11    1e-11 \n",
              "\n",
              "$negrange\n",
              "[1] -1e+06\n",
              "\n",
              "$obj.in.basis\n",
              "[1] TRUE\n",
              "\n",
              "$pivoting\n",
              "[1] \"devex\"    \"adaptive\"\n",
              "\n",
              "$presolve\n",
              "[1] \"none\"\n",
              "\n",
              "$scalelimit\n",
              "[1] 5\n",
              "\n",
              "$scaling\n",
              "[1] \"geometric\"   \"equilibrate\" \"integers\"   \n",
              "\n",
              "$sense\n",
              "[1] \"minimize\"\n",
              "\n",
              "$simplextype\n",
              "[1] \"dual\"   \"primal\"\n",
              "\n",
              "$timeout\n",
              "[1] 10\n",
              "\n",
              "$verbose\n",
              "[1] \"neutral\"\n"
            ]
          },
          "metadata": {}
        },
        {
          "output_type": "display_data",
          "data": {
            "text/html": [
              "0"
            ],
            "text/markdown": "0",
            "text/latex": "0",
            "text/plain": [
              "[1] 0"
            ]
          },
          "metadata": {}
        },
        {
          "output_type": "display_data",
          "data": {
            "text/plain": [
              "   user  system elapsed \n",
              "  0.024   0.001   0.026 "
            ]
          },
          "metadata": {}
        },
        {
          "output_type": "display_data",
          "data": {
            "text/html": [
              "39135000"
            ],
            "text/markdown": "39135000",
            "text/latex": "39135000",
            "text/plain": [
              "[1] 39135000"
            ]
          },
          "metadata": {}
        },
        {
          "output_type": "display_data",
          "data": {
            "text/html": [
              "<table class=\"dataframe\">\n",
              "<caption>A data.table: 10 × 5</caption>\n",
              "<thead>\n",
              "\t<tr><th scope=col>Source</th><th scope=col>Destination</th><th scope=col>Distance</th><th scope=col>Index</th><th scope=col>Qty</th></tr>\n",
              "\t<tr><th scope=col>&lt;chr&gt;</th><th scope=col>&lt;chr&gt;</th><th scope=col>&lt;int&gt;</th><th scope=col>&lt;int&gt;</th><th scope=col>&lt;dbl&gt;</th></tr>\n",
              "</thead>\n",
              "<tbody>\n",
              "\t<tr><td>Liverpool </td><td>Newcastle </td><td>178</td><td> 1</td><td>60000</td></tr>\n",
              "\t<tr><td>Liverpool </td><td>Birmingham</td><td> 99</td><td> 2</td><td>40000</td></tr>\n",
              "\t<tr><td>Brighton  </td><td>London    </td><td> 65</td><td> 7</td><td>95000</td></tr>\n",
              "\t<tr><td>Brighton  </td><td>Exeter    </td><td>206</td><td> 8</td><td>20000</td></tr>\n",
              "\t<tr><td>Newcastle </td><td>Carlisle  </td><td> 60</td><td> 9</td><td>50000</td></tr>\n",
              "\t<tr><td>Newcastle </td><td>Darlington</td><td> 37</td><td>10</td><td>10000</td></tr>\n",
              "\t<tr><td>Birmingham</td><td>Sheffield </td><td> 91</td><td>17</td><td>40000</td></tr>\n",
              "\t<tr><td>London    </td><td>Cambridge </td><td> 58</td><td>24</td><td>35000</td></tr>\n",
              "\t<tr><td>London    </td><td>Oxford    </td><td> 56</td><td>25</td><td>60000</td></tr>\n",
              "\t<tr><td>Exeter    </td><td>Truro     </td><td> 90</td><td>32</td><td>20000</td></tr>\n",
              "</tbody>\n",
              "</table>\n"
            ],
            "text/markdown": "\nA data.table: 10 × 5\n\n| Source &lt;chr&gt; | Destination &lt;chr&gt; | Distance &lt;int&gt; | Index &lt;int&gt; | Qty &lt;dbl&gt; |\n|---|---|---|---|---|\n| Liverpool  | Newcastle  | 178 |  1 | 60000 |\n| Liverpool  | Birmingham |  99 |  2 | 40000 |\n| Brighton   | London     |  65 |  7 | 95000 |\n| Brighton   | Exeter     | 206 |  8 | 20000 |\n| Newcastle  | Carlisle   |  60 |  9 | 50000 |\n| Newcastle  | Darlington |  37 | 10 | 10000 |\n| Birmingham | Sheffield  |  91 | 17 | 40000 |\n| London     | Cambridge  |  58 | 24 | 35000 |\n| London     | Oxford     |  56 | 25 | 60000 |\n| Exeter     | Truro      |  90 | 32 | 20000 |\n\n",
            "text/latex": "A data.table: 10 × 5\n\\begin{tabular}{lllll}\n Source & Destination & Distance & Index & Qty\\\\\n <chr> & <chr> & <int> & <int> & <dbl>\\\\\n\\hline\n\t Liverpool  & Newcastle  & 178 &  1 & 60000\\\\\n\t Liverpool  & Birmingham &  99 &  2 & 40000\\\\\n\t Brighton   & London     &  65 &  7 & 95000\\\\\n\t Brighton   & Exeter     & 206 &  8 & 20000\\\\\n\t Newcastle  & Carlisle   &  60 &  9 & 50000\\\\\n\t Newcastle  & Darlington &  37 & 10 & 10000\\\\\n\t Birmingham & Sheffield  &  91 & 17 & 40000\\\\\n\t London     & Cambridge  &  58 & 24 & 35000\\\\\n\t London     & Oxford     &  56 & 25 & 60000\\\\\n\t Exeter     & Truro      &  90 & 32 & 20000\\\\\n\\end{tabular}\n",
            "text/plain": [
              "   Source     Destination Distance Index Qty  \n",
              "1  Liverpool  Newcastle   178       1    60000\n",
              "2  Liverpool  Birmingham   99       2    40000\n",
              "3  Brighton   London       65       7    95000\n",
              "4  Brighton   Exeter      206       8    20000\n",
              "5  Newcastle  Carlisle     60       9    50000\n",
              "6  Newcastle  Darlington   37      10    10000\n",
              "7  Birmingham Sheffield    91      17    40000\n",
              "8  London     Cambridge    58      24    35000\n",
              "9  London     Oxford       56      25    60000\n",
              "10 Exeter     Truro        90      32    20000"
            ]
          },
          "metadata": {}
        }
      ]
    },
    {
      "cell_type": "code",
      "source": [],
      "metadata": {
        "id": "lus8g5Xs-KVX"
      },
      "execution_count": null,
      "outputs": []
    }
  ]
}